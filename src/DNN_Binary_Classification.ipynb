{
 "cells": [
  {
   "cell_type": "code",
   "execution_count": 1,
   "metadata": {},
   "outputs": [
    {
     "name": "stderr",
     "output_type": "stream",
     "text": [
      "Using TensorFlow backend.\n"
     ]
    }
   ],
   "source": [
    "import numpy as np\n",
    "import matplotlib.pyplot as plt\n",
    "%matplotlib inline\n",
    "from sklearn import datasets\n",
    "import keras\n",
    "from keras.models import Sequential\n",
    "from keras.layers import Dense\n",
    "from keras.optimizers import Adam\n",
    "\n",
    "def plot_decision_boundary(X, y, model):\n",
    "    x_span = np.linspace(min(X[:,0]) - 0.25, max(X[:,0]) + 0.25)\n",
    "    y_span = np.linspace(min(X[:,1]) - 0.25, max(X[:,1]) + 0.25)\n",
    "    xx, yy = np.meshgrid(x_span, y_span)\n",
    "    grid = np.c_[xx.ravel(), yy.ravel()]\n",
    "    pred_func = model.predict(grid)\n",
    "    z = pred_func.reshape(xx.shape)\n",
    "    plt.contourf(xx, yy, z)\n"
   ]
  },
  {
   "cell_type": "code",
   "execution_count": 2,
   "metadata": {},
   "outputs": [
    {
     "data": {
      "image/png": "[encoded data removed]",
      "text/plain": [
       "<Figure size 432x288 with 1 Axes>"
      ]
     },
     "metadata": {
      "needs_background": "light"
     },
     "output_type": "display_data"
    }
   ],
   "source": [
    "np.random.seed(0)\n",
    "\n",
    "n_pts = 500\n",
    "# * High noise = Really convoluted data, difficult to dsitinguish\n",
    "# * factor = 0.2: Diameter is 20% large of the outer circle\n",
    "X, y = datasets.make_circles(n_samples = n_pts, random_state = 123, noise=0.3, factor=0.2)\n",
    "plt.scatter(X[y==0, 0], X[y==0, 1])\n",
    "plt.scatter(X[y==1, 0], X[y==1, 1])\n",
    "plt.show()\n",
    "\n",
    "\n"
   ]
  },
  {
   "cell_type": "code",
   "execution_count": 3,
   "metadata": {},
   "outputs": [
    {
     "name": "stdout",
     "output_type": "stream",
     "text": [
      "WARNING:tensorflow:From /usr/local/lib/python3.7/site-packages/tensorflow/python/framework/op_def_library.py:263: colocate_with (from tensorflow.python.framework.ops) is deprecated and will be removed in a future version.\n",
      "Instructions for updating:\n",
      "Colocations handled automatically by placer.\n",
      "WARNING:tensorflow:From /usr/local/lib/python3.7/site-packages/tensorflow/python/ops/math_ops.py:3066: to_int32 (from tensorflow.python.ops.math_ops) is deprecated and will be removed in a future version.\n",
      "Instructions for updating:\n",
      "Use tf.cast instead.\n",
      "Epoch 1/100\n",
      "500/500 [==============================] - 0s 732us/step - loss: 0.6956 - acc: 0.4980\n",
      "Epoch 2/100\n",
      "500/500 [==============================] - 0s 108us/step - loss: 0.6928 - acc: 0.5860\n",
      "Epoch 3/100\n",
      "500/500 [==============================] - 0s 106us/step - loss: 0.6918 - acc: 0.5160\n",
      "Epoch 4/100\n",
      "500/500 [==============================] - 0s 91us/step - loss: 0.6909 - acc: 0.6300\n",
      "Epoch 5/100\n",
      "500/500 [==============================] - 0s 75us/step - loss: 0.6900 - acc: 0.6140\n",
      "Epoch 6/100\n",
      "500/500 [==============================] - 0s 87us/step - loss: 0.6888 - acc: 0.4360\n",
      "Epoch 7/100\n",
      "500/500 [==============================] - 0s 89us/step - loss: 0.6869 - acc: 0.5720\n",
      "Epoch 8/100\n",
      "500/500 [==============================] - 0s 116us/step - loss: 0.6852 - acc: 0.5840\n",
      "Epoch 9/100\n",
      "500/500 [==============================] - 0s 120us/step - loss: 0.6826 - acc: 0.6500\n",
      "Epoch 10/100\n",
      "500/500 [==============================] - 0s 97us/step - loss: 0.6788 - acc: 0.6380\n",
      "Epoch 11/100\n",
      "500/500 [==============================] - 0s 93us/step - loss: 0.6748 - acc: 0.6600\n",
      "Epoch 12/100\n",
      "500/500 [==============================] - 0s 98us/step - loss: 0.6685 - acc: 0.7180\n",
      "Epoch 13/100\n",
      "500/500 [==============================] - ETA: 0s - loss: 0.6676 - acc: 0.650 - 0s 90us/step - loss: 0.6622 - acc: 0.7160\n",
      "Epoch 14/100\n",
      "500/500 [==============================] - 0s 84us/step - loss: 0.6548 - acc: 0.7240\n",
      "Epoch 15/100\n",
      "500/500 [==============================] - 0s 93us/step - loss: 0.6444 - acc: 0.7640\n",
      "Epoch 16/100\n",
      "500/500 [==============================] - 0s 87us/step - loss: 0.6347 - acc: 0.7920\n",
      "Epoch 17/100\n",
      "500/500 [==============================] - 0s 69us/step - loss: 0.6247 - acc: 0.7760\n",
      "Epoch 18/100\n",
      "500/500 [==============================] - 0s 76us/step - loss: 0.6115 - acc: 0.7920\n",
      "Epoch 19/100\n",
      "500/500 [==============================] - 0s 77us/step - loss: 0.6002 - acc: 0.8040\n",
      "Epoch 20/100\n",
      "500/500 [==============================] - 0s 77us/step - loss: 0.5860 - acc: 0.7980\n",
      "Epoch 21/100\n",
      "500/500 [==============================] - 0s 112us/step - loss: 0.5739 - acc: 0.7860\n",
      "Epoch 22/100\n",
      "500/500 [==============================] - 0s 98us/step - loss: 0.5608 - acc: 0.7940\n",
      "Epoch 23/100\n",
      "500/500 [==============================] - 0s 91us/step - loss: 0.5480 - acc: 0.8000\n",
      "Epoch 24/100\n",
      "500/500 [==============================] - 0s 76us/step - loss: 0.5363 - acc: 0.8120\n",
      "Epoch 25/100\n",
      "500/500 [==============================] - 0s 79us/step - loss: 0.5255 - acc: 0.8040\n",
      "Epoch 26/100\n",
      "500/500 [==============================] - 0s 94us/step - loss: 0.5142 - acc: 0.8100\n",
      "Epoch 27/100\n",
      "500/500 [==============================] - 0s 100us/step - loss: 0.5026 - acc: 0.8080\n",
      "Epoch 28/100\n",
      "500/500 [==============================] - 0s 79us/step - loss: 0.4918 - acc: 0.8140\n",
      "Epoch 29/100\n",
      "500/500 [==============================] - 0s 80us/step - loss: 0.4814 - acc: 0.8160\n",
      "Epoch 30/100\n",
      "500/500 [==============================] - 0s 85us/step - loss: 0.4712 - acc: 0.8280\n",
      "Epoch 31/100\n",
      "500/500 [==============================] - 0s 82us/step - loss: 0.4619 - acc: 0.8240\n",
      "Epoch 32/100\n",
      "500/500 [==============================] - 0s 137us/step - loss: 0.4527 - acc: 0.8300\n",
      "Epoch 33/100\n",
      "500/500 [==============================] - 0s 128us/step - loss: 0.4447 - acc: 0.8340\n",
      "Epoch 34/100\n",
      "500/500 [==============================] - 0s 102us/step - loss: 0.4368 - acc: 0.8280\n",
      "Epoch 35/100\n",
      "500/500 [==============================] - 0s 96us/step - loss: 0.4277 - acc: 0.8440\n",
      "Epoch 36/100\n",
      "500/500 [==============================] - 0s 79us/step - loss: 0.4204 - acc: 0.8480\n",
      "Epoch 37/100\n",
      "500/500 [==============================] - 0s 81us/step - loss: 0.4135 - acc: 0.8640\n",
      "Epoch 38/100\n",
      "500/500 [==============================] - 0s 80us/step - loss: 0.4073 - acc: 0.8580\n",
      "Epoch 39/100\n",
      "500/500 [==============================] - 0s 82us/step - loss: 0.3993 - acc: 0.8620\n",
      "Epoch 40/100\n",
      "500/500 [==============================] - 0s 82us/step - loss: 0.3925 - acc: 0.8760\n",
      "Epoch 41/100\n",
      "500/500 [==============================] - 0s 85us/step - loss: 0.3864 - acc: 0.8780\n",
      "Epoch 42/100\n",
      "500/500 [==============================] - 0s 87us/step - loss: 0.3808 - acc: 0.8860\n",
      "Epoch 43/100\n",
      "500/500 [==============================] - 0s 79us/step - loss: 0.3742 - acc: 0.8860\n",
      "Epoch 44/100\n",
      "500/500 [==============================] - 0s 89us/step - loss: 0.3685 - acc: 0.8860\n",
      "Epoch 45/100\n",
      "500/500 [==============================] - 0s 90us/step - loss: 0.3629 - acc: 0.8880\n",
      "Epoch 46/100\n",
      "500/500 [==============================] - 0s 93us/step - loss: 0.3576 - acc: 0.8920\n",
      "Epoch 47/100\n",
      "500/500 [==============================] - 0s 135us/step - loss: 0.3523 - acc: 0.8960\n",
      "Epoch 48/100\n",
      "500/500 [==============================] - 0s 133us/step - loss: 0.3461 - acc: 0.8980\n",
      "Epoch 49/100\n",
      "500/500 [==============================] - 0s 117us/step - loss: 0.3400 - acc: 0.8960\n",
      "Epoch 50/100\n",
      "500/500 [==============================] - 0s 86us/step - loss: 0.3352 - acc: 0.8960\n",
      "Epoch 51/100\n",
      "500/500 [==============================] - 0s 87us/step - loss: 0.3298 - acc: 0.8920\n",
      "Epoch 52/100\n",
      "500/500 [==============================] - 0s 94us/step - loss: 0.3249 - acc: 0.8980\n",
      "Epoch 53/100\n",
      "500/500 [==============================] - 0s 86us/step - loss: 0.3206 - acc: 0.8980\n",
      "Epoch 54/100\n",
      "500/500 [==============================] - 0s 80us/step - loss: 0.3162 - acc: 0.8960\n",
      "Epoch 55/100\n",
      "500/500 [==============================] - 0s 73us/step - loss: 0.3120 - acc: 0.8940\n",
      "Epoch 56/100\n",
      "500/500 [==============================] - 0s 72us/step - loss: 0.3102 - acc: 0.8900\n",
      "Epoch 57/100\n",
      "500/500 [==============================] - 0s 73us/step - loss: 0.3058 - acc: 0.8940\n",
      "Epoch 58/100\n",
      "500/500 [==============================] - 0s 75us/step - loss: 0.3027 - acc: 0.8880\n",
      "Epoch 59/100\n",
      "500/500 [==============================] - 0s 73us/step - loss: 0.3007 - acc: 0.8880\n",
      "Epoch 60/100\n",
      "500/500 [==============================] - 0s 70us/step - loss: 0.2988 - acc: 0.8880\n",
      "Epoch 61/100\n",
      "500/500 [==============================] - 0s 77us/step - loss: 0.2959 - acc: 0.8940\n",
      "Epoch 62/100\n",
      "500/500 [==============================] - 0s 76us/step - loss: 0.2938 - acc: 0.8900\n",
      "Epoch 63/100\n",
      "500/500 [==============================] - 0s 75us/step - loss: 0.2919 - acc: 0.8900\n",
      "Epoch 64/100\n",
      "500/500 [==============================] - 0s 181us/step - loss: 0.2906 - acc: 0.8880\n",
      "Epoch 65/100\n",
      "500/500 [==============================] - 0s 86us/step - loss: 0.2888 - acc: 0.8900\n",
      "Epoch 66/100\n",
      "500/500 [==============================] - 0s 129us/step - loss: 0.2874 - acc: 0.8900\n",
      "Epoch 67/100\n",
      "500/500 [==============================] - 0s 127us/step - loss: 0.2862 - acc: 0.8860\n",
      "Epoch 68/100\n",
      "500/500 [==============================] - 0s 94us/step - loss: 0.2855 - acc: 0.8880\n",
      "Epoch 69/100\n",
      "500/500 [==============================] - 0s 89us/step - loss: 0.2841 - acc: 0.8860\n",
      "Epoch 70/100\n",
      "500/500 [==============================] - 0s 84us/step - loss: 0.2828 - acc: 0.8860\n",
      "Epoch 71/100\n",
      "500/500 [==============================] - 0s 83us/step - loss: 0.2815 - acc: 0.8880\n",
      "Epoch 72/100\n",
      "500/500 [==============================] - 0s 73us/step - loss: 0.2812 - acc: 0.8900\n",
      "Epoch 73/100\n",
      "500/500 [==============================] - 0s 90us/step - loss: 0.2807 - acc: 0.8860\n",
      "Epoch 74/100\n",
      "500/500 [==============================] - 0s 94us/step - loss: 0.2787 - acc: 0.8860\n",
      "Epoch 75/100\n",
      "500/500 [==============================] - 0s 74us/step - loss: 0.2781 - acc: 0.8880\n",
      "Epoch 76/100\n",
      "500/500 [==============================] - 0s 84us/step - loss: 0.2778 - acc: 0.8880\n",
      "Epoch 77/100\n",
      "500/500 [==============================] - 0s 96us/step - loss: 0.2773 - acc: 0.8900\n",
      "Epoch 78/100\n"
     ]
    },
    {
     "name": "stdout",
     "output_type": "stream",
     "text": [
      "500/500 [==============================] - 0s 99us/step - loss: 0.2762 - acc: 0.8860\n",
      "Epoch 79/100\n",
      "500/500 [==============================] - 0s 102us/step - loss: 0.2756 - acc: 0.8860\n",
      "Epoch 80/100\n",
      "500/500 [==============================] - 0s 132us/step - loss: 0.2752 - acc: 0.8900\n",
      "Epoch 81/100\n",
      "500/500 [==============================] - 0s 93us/step - loss: 0.2751 - acc: 0.8860\n",
      "Epoch 82/100\n",
      "500/500 [==============================] - 0s 91us/step - loss: 0.2746 - acc: 0.8840\n",
      "Epoch 83/100\n",
      "500/500 [==============================] - 0s 77us/step - loss: 0.2745 - acc: 0.8820\n",
      "Epoch 84/100\n",
      "500/500 [==============================] - 0s 75us/step - loss: 0.2728 - acc: 0.8860\n",
      "Epoch 85/100\n",
      "500/500 [==============================] - 0s 67us/step - loss: 0.2734 - acc: 0.8820\n",
      "Epoch 86/100\n",
      "500/500 [==============================] - 0s 85us/step - loss: 0.2723 - acc: 0.8900\n",
      "Epoch 87/100\n",
      "500/500 [==============================] - 0s 74us/step - loss: 0.2721 - acc: 0.8840\n",
      "Epoch 88/100\n",
      "500/500 [==============================] - 0s 77us/step - loss: 0.2717 - acc: 0.8840\n",
      "Epoch 89/100\n",
      "500/500 [==============================] - 0s 93us/step - loss: 0.2705 - acc: 0.8880\n",
      "Epoch 90/100\n",
      "500/500 [==============================] - 0s 93us/step - loss: 0.2704 - acc: 0.8860\n",
      "Epoch 91/100\n",
      "500/500 [==============================] - 0s 113us/step - loss: 0.2706 - acc: 0.8820\n",
      "Epoch 92/100\n",
      "500/500 [==============================] - 0s 100us/step - loss: 0.2709 - acc: 0.8820\n",
      "Epoch 93/100\n",
      "500/500 [==============================] - 0s 85us/step - loss: 0.2712 - acc: 0.8900\n",
      "Epoch 94/100\n",
      "500/500 [==============================] - 0s 87us/step - loss: 0.2687 - acc: 0.8860\n",
      "Epoch 95/100\n",
      "500/500 [==============================] - 0s 94us/step - loss: 0.2690 - acc: 0.8860\n",
      "Epoch 96/100\n",
      "500/500 [==============================] - 0s 85us/step - loss: 0.2684 - acc: 0.8860\n",
      "Epoch 97/100\n",
      "500/500 [==============================] - 0s 83us/step - loss: 0.2690 - acc: 0.8860\n",
      "Epoch 98/100\n",
      "500/500 [==============================] - 0s 90us/step - loss: 0.2682 - acc: 0.8860\n",
      "Epoch 99/100\n",
      "500/500 [==============================] - 0s 89us/step - loss: 0.2690 - acc: 0.8840\n",
      "Epoch 100/100\n",
      "500/500 [==============================] - 0s 95us/step - loss: 0.2677 - acc: 0.8860\n"
     ]
    },
    {
     "data": {
      "image/png": "[encoded data removed]",
      "text/plain": [
       "<Figure size 432x288 with 1 Axes>"
      ]
     },
     "metadata": {
      "needs_background": "light"
     },
     "output_type": "display_data"
    },
    {
     "data": {
      "image/png": "[encoded data removed]",
      "text/plain": [
       "<Figure size 432x288 with 1 Axes>"
      ]
     },
     "metadata": {
      "needs_background": "light"
     },
     "output_type": "display_data"
    }
   ],
   "source": [
    "\n",
    "model = Sequential()\n",
    "model.add(Dense(4 , input_shape = (2,), activation = 'sigmoid'))\n",
    "model.add(Dense(1, activation = 'sigmoid'))\n",
    "model.compile(Adam(lr = 0.01), 'binary_crossentropy', metrics=['accuracy'])\n",
    "h = model.fit(x = X, y = y, verbose = 1, batch_size = 20, epochs = 100, shuffle = 'true')\n",
    "\n",
    "plt.plot(h.history['acc'])\n",
    "plt.legend(['accuracy'])\n",
    "plt.ylabel('accuracy')\n",
    "plt.xlabel('epoch')\n",
    "plt.show()\n",
    "\n",
    " \n",
    "plt.plot(h.history['loss'])\n",
    "plt.legend(['loss'])\n",
    "plt.title('loss')\n",
    "plt.xlabel('epoch')\n",
    "plt.show()\n"
   ]
  },
  {
   "cell_type": "code",
   "execution_count": 4,
   "metadata": {},
   "outputs": [
    {
     "name": "stdout",
     "output_type": "stream",
     "text": [
      "Prediction is:  [[0.7835932]]\n"
     ]
    },
    {
     "data": {
      "image/png": "[encoded data removed]",
      "text/plain": [
       "<Figure size 432x288 with 1 Axes>"
      ]
     },
     "metadata": {
      "needs_background": "light"
     },
     "output_type": "display_data"
    }
   ],
   "source": [
    "plt.scatter(X[y==0, 0], X[y==0, 1])\n",
    "plt.scatter(X[y==1, 0], X[y==1, 1])\n",
    "plot_decision_boundary(X, y, model)\n",
    " \n",
    "x = 0\n",
    "y = 0.5\n",
    " \n",
    "point = np.array([[x, y]])\n",
    "predict = model.predict(point)\n",
    "plt.plot([x], [y], marker='o', markersize=10, color=\"red\")\n",
    "print(\"Prediction is: \", predict)"
   ]
  },
  {
   "cell_type": "code",
   "execution_count": null,
   "metadata": {},
   "outputs": [],
   "source": []
  }
 ],
 "metadata": {
  "kernelspec": {
   "display_name": "Python 3",
   "language": "python",
   "name": "python3"
  },
  "language_info": {
   "codemirror_mode": {
    "name": "ipython",
    "version": 3
   },
   "file_extension": ".py",
   "mimetype": "text/x-python",
   "name": "python",
   "nbconvert_exporter": "python",
   "pygments_lexer": "ipython3",
   "version": "3.7.2"
  }
 },
 "nbformat": 4,
 "nbformat_minor": 2
}
